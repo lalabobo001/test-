{
  "nbformat": 4,
  "nbformat_minor": 0,
  "metadata": {
    "colab": {
      "name": "test2.ipynb",
      "version": "0.3.2",
      "provenance": []
    },
    "kernelspec": {
      "name": "python3",
      "display_name": "Python 3"
    },
    "accelerator": "GPU"
  },
  "cells": [
    {
      "metadata": {
        "id": "7WHgjpx6Y-ym",
        "colab_type": "code",
        "outputId": "c99fbdbc-7efb-4e4b-b64e-8e3fc12dfba8",
        "colab": {
          "base_uri": "https://localhost:8080/",
          "height": 68
        }
      },
      "cell_type": "code",
      "source": [
        "import random # 呼叫函數時使用隨機整數\n",
        "\n",
        "# 定義自訂函數\n",
        "def exchange_sort(input_list, reverse = False):\n",
        "    ''' # 多行的 docstrings\n",
        "    依據輸入的 list 與 reverse 參數排序 list 中的數字後回傳。\n",
        "    reverse 參數預設為 False 遞增排序，可以修改為 True 遞減排序。\n",
        "    '''\n",
        "    input_list_cloned = input_list\n",
        "    # 遞增排序\n",
        "    if reverse == False:\n",
        "        for i in range(0, len(input_list) - 1):\n",
        "            for j in range(i+1, len(input_list)):\n",
        "                # 如果前一個數字比後一個數字大則交換位置\n",
        "                if input_list_cloned[i] > input_list_cloned[j]:\n",
        "                    temp = input_list_cloned[i]\n",
        "                    input_list_cloned[i] = input_list_cloned[j]\n",
        "                    input_list_cloned[j] = temp\n",
        "    # 遞減排序\n",
        "    else:\n",
        "        for i in range(0, len(input_list) - 1):\n",
        "            for j in range(i+1, len(input_list)):\n",
        "                # 如果前一個數字比後一個數字小則交換位置\n",
        "                if input_list_cloned[i] < input_list_cloned[j]:\n",
        "                    temp = input_list_cloned[i]\n",
        "                    input_list_cloned[i] = input_list_cloned[j]\n",
        "                    input_list_cloned[j] = temp\n",
        "    return input_list_cloned\n",
        "\n",
        "# 呼叫自訂函數\n",
        "my_vector = random.sample(range(0, 100), 10) # 產生一組隨機數\n",
        "print(my_vector) # 看看未排序前\n",
        "print(exchange_sort(my_vector)) # 預設遞增排序\n",
        "print(exchange_sort(my_vector, reverse = True)) # 指定參數遞減排序"
      ],
      "execution_count": 4,
      "outputs": [
        {
          "output_type": "stream",
          "text": [
            "[13, 28, 52, 7, 84, 10, 36, 85, 87, 38]\n",
            "[7, 10, 13, 28, 36, 38, 52, 84, 85, 87]\n",
            "[87, 85, 84, 52, 38, 36, 28, 13, 10, 7]\n"
          ],
          "name": "stdout"
        }
      ]
    }
  ]
}